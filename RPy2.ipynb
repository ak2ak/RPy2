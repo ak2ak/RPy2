{
 "cells": [
  {
   "cell_type": "markdown",
   "metadata": {},
   "source": [
    "Installation steps for windows user\n",
    "\n",
    "1) Download .whl file from https://www.lfd.uci.edu/~gohlke/pythonlibs/#rpy2\n",
    "\n",
    "2) Copy the .whl file to Anaconda3 folder \n",
    "\n",
    "3) install RPy2 using anaconda prompt: conda install rpy2-2.9.5-cp37-cp37m-win_amd64"
   ]
  },
  {
   "cell_type": "code",
   "execution_count": null,
   "metadata": {},
   "outputs": [],
   "source": [
    "!pip install rpy2"
   ]
  },
  {
   "cell_type": "code",
   "execution_count": null,
   "metadata": {},
   "outputs": [],
   "source": [
    "import pandas as pd\n",
    "import numpy as np\n",
    "import math\n",
    "import rpy2.robjects as robjects\n",
    "from rpy2.robjects import pandas2ri\n",
    "import rpy2.robjects.packages as rpackages\n",
    "from rpy2.robjects.vectors import StrVector\n",
    "import rpy2.robjects.lib.ggplot2 as ggplot2\n",
    "r=robjects.r"
   ]
  },
  {
   "cell_type": "code",
   "execution_count": null,
   "metadata": {},
   "outputs": [],
   "source": [
    "df = pd.read_csv('binary_classification.csv',index_col='employee_id')"
   ]
  },
  {
   "cell_type": "code",
   "execution_count": null,
   "metadata": {},
   "outputs": [],
   "source": [
    "df.head(5)"
   ]
  },
  {
   "cell_type": "code",
   "execution_count": null,
   "metadata": {},
   "outputs": [],
   "source": [
    "df.info()"
   ]
  },
  {
   "cell_type": "code",
   "execution_count": null,
   "metadata": {},
   "outputs": [],
   "source": [
    "df=df.rename(columns={\"KPIs_met >80%\": \"KPIs_met_80\",\"no_of_trainings\": \"previous_year_no_of_trainings\",\n",
    "                      \"awards_won?\":\"previous_year_awards_won\"})\n",
    "df.education=df.education.fillna('No Education Info')\n",
    "df.previous_year_rating=df.previous_year_rating.fillna('no_prev_year_rating')\n",
    "df.previous_year_rating=df.previous_year_rating.replace(1,'1_prev_year_rating')\n",
    "df.previous_year_rating=df.previous_year_rating.replace(2,'2_prev_year_rating')\n",
    "df.previous_year_rating=df.previous_year_rating.replace(3,'3_prev_year_rating')\n",
    "df.previous_year_rating=df.previous_year_rating.replace(4,'4_prev_year_rating')\n",
    "df.previous_year_rating=df.previous_year_rating.replace(5,'5_prev_year_rating')"
   ]
  },
  {
   "cell_type": "markdown",
   "metadata": {},
   "source": [
    "This tutorial is focusing on using RPy2 as the bridge between Python and R to do the classification using gbm. So, we just jump to the modeling process without any feature engineering "
   ]
  },
  {
   "cell_type": "code",
   "execution_count": null,
   "metadata": {},
   "outputs": [],
   "source": []
  }
 ],
 "metadata": {
  "kernelspec": {
   "display_name": "Python 3",
   "language": "python",
   "name": "python3"
  },
  "language_info": {
   "codemirror_mode": {
    "name": "ipython",
    "version": 3
   },
   "file_extension": ".py",
   "mimetype": "text/x-python",
   "name": "python",
   "nbconvert_exporter": "python",
   "pygments_lexer": "ipython3",
   "version": "3.6.5"
  }
 },
 "nbformat": 4,
 "nbformat_minor": 2
}
